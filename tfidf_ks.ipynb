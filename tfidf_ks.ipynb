{
 "cells": [
  {
   "cell_type": "markdown",
   "metadata": {},
   "source": [
    "## Hello everyone,\n",
    "\n",
    "#### welcome to this place,\n",
    "\n",
    "Here is Federico. In this notebook I would like to share the method I used to make \"dimensionality reduction\" on a TF-IDF sparse Matrix.\n",
    "\n",
    "It means we are in a NLP task. For this notebook I used the dataset *Toxic Comment Classification Challenge* available on Kaggle. (here:https://www.kaggle.com/c/jigsaw-toxic-comment-classification-challenge)\n",
    "\n",
    "In this dataset our input is \"just\" a text, a comment, and the goal of this competition is to predict six binary outputs simultaneously. In detail *'toxic', 'severe_toxic', 'obscene', 'threat', 'insult', 'identity_hate'*\n",
    "\n",
    "One technique to manage text data is TF-IDF (explanation here https://en.wikipedia.org/wiki/Tf%E2%80%93idf). It is quite similar to\n",
    "BagOfWords in which we build a vector (V x 1), with V the length of the vocabulary, composed by 0s where the words are not present in the text and 1s if they are. Instead, TFIDF *\"is intended to reflect how important a word is to a document in a collection or corpus\"*\n",
    "\n",
    "The main problem of this method is that the matrix is huge because of the dimension of the vocabulary. In this case we have a dataset with text generated from comments of users of wikipedia. It means that many mistakes are present. Each of these mistakes generates a new word in the vocabulary. \n",
    "\n",
    "In general it is common to considerate only the firsts (not so easy) N words in order to reduce all computations.\n",
    "\n",
    "Because of the particular composition of this dataset (unbalanced), the **discriminant words** could be somewhat rare. As we can guess, it is not so common to read *\"motherfucker\"* inside a comment.\n",
    "\n",
    "This means we should find another way.\n",
    "\n",
    "Possible solutions:\n",
    "    \n",
    "    i) remove each columns (that means words, which means variables) from TF-IDF matrix which present standard deviation less than a threshold.\n",
    "    ii) dimensionality reduction on TF-IDF matrix\n",
    " \n",
    "I do not like the first solution too much, but it's fast! I don't like the second solution too. I do not want to reduce the TF-IDF matrix into a smaller one that I can manage. I want to hold just the part of the variance which can be useful in discriminating input text in *'toxic', 'severe_toxic', 'obscene', 'threat', 'insult', 'identity_hate'*."
   ]
  },
  {
   "cell_type": "code",
   "execution_count": 1,
   "metadata": {
    "ExecuteTime": {
     "end_time": "2018-02-19T13:01:05.679234Z",
     "start_time": "2018-02-19T13:01:04.260245Z"
    }
   },
   "outputs": [],
   "source": [
    "import pandas as pd\n",
    "import numpy as np\n",
    "\n",
    "from string import punctuation\n",
    "\n",
    "from sklearn.feature_extraction.text import TfidfVectorizer\n",
    "\n",
    "from scipy.stats import ks_2samp\n",
    "\n",
    "import matplotlib.pyplot as plt\n",
    "\n",
    "def clean(x):\n",
    "    removerPunctuation = str.maketrans({k:' ' for k in punctuation})\n",
    "    x = x.translate(removerPunctuation)\n",
    "    return x.lower().strip()\n",
    "\n",
    "from time import time\n",
    "from tqdm import tqdm\n",
    "\n",
    "import multiprocessing as mp\n",
    "import gc"
   ]
  },
  {
   "cell_type": "code",
   "execution_count": 2,
   "metadata": {
    "ExecuteTime": {
     "end_time": "2018-02-19T13:01:07.299220Z",
     "start_time": "2018-02-19T13:01:05.679234Z"
    },
    "scrolled": true
   },
   "outputs": [
    {
     "name": "stdout",
     "output_type": "stream",
     "text": [
      "Train shape:  (159571, 8)\n",
      "Test shape:  (153164, 2)\n"
     ]
    }
   ],
   "source": [
    "train = pd.read_csv('train.csv')\n",
    "test = pd.read_csv('test.csv')\n",
    "print('Train shape: ', train.shape)\n",
    "print('Test shape: ', test.shape)"
   ]
  },
  {
   "cell_type": "code",
   "execution_count": 3,
   "metadata": {
    "ExecuteTime": {
     "end_time": "2018-02-19T13:01:21.598125Z",
     "start_time": "2018-02-19T13:01:07.304220Z"
    },
    "collapsed": true
   },
   "outputs": [],
   "source": [
    "train['comment_text'] = train.comment_text.str.replace(\"\\n\",\"\").replace(\"—\",\"\")\n",
    "test['comment_text'] = test.comment_text.str.replace(\"\\n\",\"\").replace(\"—\",\"\")\n",
    "\n",
    "train['comment_text'] = train.apply(axis=1, func = lambda x: clean(str(x.comment_text)))\n",
    "test['comment_text'] = test.apply(axis=1, func = lambda x: clean(str(x.comment_text)))"
   ]
  },
  {
   "cell_type": "code",
   "execution_count": 4,
   "metadata": {
    "ExecuteTime": {
     "end_time": "2018-02-19T13:01:41.788943Z",
     "start_time": "2018-02-19T13:01:21.601125Z"
    }
   },
   "outputs": [
    {
     "data": {
      "text/plain": [
       "264"
      ]
     },
     "execution_count": 4,
     "metadata": {},
     "output_type": "execute_result"
    }
   ],
   "source": [
    "tt = pd.concat([train.comment_text,test.comment_text], axis=0).reset_index(drop=True)\n",
    "\n",
    "tfidf = TfidfVectorizer(ngram_range=(1,1), stop_words=\"english\", max_features=None)\n",
    "\n",
    "tfidf_all = tfidf.fit_transform(tt)\n",
    "train_tfidf = tfidf_all[:train.shape[0]]\n",
    "test_tfidf = tfidf_all[train.shape[0]:]\n",
    "\n",
    "del tfidf, tfidf_all, tt\n",
    "gc.collect()"
   ]
  },
  {
   "cell_type": "code",
   "execution_count": 5,
   "metadata": {
    "ExecuteTime": {
     "end_time": "2018-02-19T13:01:41.794943Z",
     "start_time": "2018-02-19T13:01:41.788943Z"
    }
   },
   "outputs": [
    {
     "name": "stdout",
     "output_type": "stream",
     "text": [
      "The dimension of the vocabulary is quite huge:\n",
      "V is equal to 368026\n"
     ]
    }
   ],
   "source": [
    "print(\"The dimension of the vocabulary is quite huge:\")\n",
    "print(\"V is equal to {}\".format(train_tfidf.shape[1]))"
   ]
  },
  {
   "cell_type": "markdown",
   "metadata": {},
   "source": [
    "The idea behind this notebook is to keep just the columns that are able to discriminate the text. \n",
    "\n",
    "My purpose is to keep just the words that have the two marginal distribution different in term of **Kolmogorov-Smirnov**\n",
    "\n",
    "#### An example:"
   ]
  },
  {
   "cell_type": "code",
   "execution_count": 6,
   "metadata": {
    "ExecuteTime": {
     "end_time": "2018-02-19T13:06:05.059721Z",
     "start_time": "2018-02-19T13:01:41.798943Z"
    }
   },
   "outputs": [
    {
     "name": "stdout",
     "output_type": "stream",
     "text": [
      "5962\n"
     ]
    }
   ],
   "source": [
    "c ='toxic'\n",
    "for i in range(0,10000):\n",
    "    label = pd.DataFrame(train[c].values, columns=['label']).copy()\n",
    "    tmp = pd.DataFrame(train_tfidf[:,i].todense(), columns=['column'])\n",
    "    comparison = pd.concat([tmp,label], axis = 1)\n",
    "    ones = comparison['column'][comparison.label == 1]\n",
    "    zeros = comparison['column'][comparison.label == 0]\n",
    "    _, p = ks_2samp(ones, zeros)\n",
    "        \n",
    "    if p < 0.2:\n",
    "        print(i)\n",
    "        break"
   ]
  },
  {
   "cell_type": "code",
   "execution_count": 7,
   "metadata": {
    "ExecuteTime": {
     "end_time": "2018-02-19T13:11:00.091641Z",
     "start_time": "2018-02-19T13:11:00.087641Z"
    },
    "collapsed": true
   },
   "outputs": [],
   "source": [
    "i = 5962"
   ]
  },
  {
   "cell_type": "code",
   "execution_count": 8,
   "metadata": {
    "ExecuteTime": {
     "end_time": "2018-02-19T13:11:26.613641Z",
     "start_time": "2018-02-19T13:11:01.998641Z"
    }
   },
   "outputs": [
    {
     "data": {
      "image/png": "[encoded data removed]",
      "text/plain": [
       "<matplotlib.figure.Figure at 0x5e0b6d8>"
      ]
     },
     "metadata": {},
     "output_type": "display_data"
    },
    {
     "data": {
      "image/png": "[encoded data removed]",
      "text/plain": [
       "<matplotlib.figure.Figure at 0x25d5e2b0>"
      ]
     },
     "metadata": {},
     "output_type": "display_data"
    }
   ],
   "source": [
    "label = pd.DataFrame(train[c].values, columns=['label']).copy()\n",
    "tmp = pd.DataFrame(train_tfidf[:,i].todense(), columns=['column'])\n",
    "comparison = pd.concat([tmp,label], axis = 1)\n",
    "ones = comparison['column'][comparison.label == 1]\n",
    "zeros = comparison['column'][comparison.label == 0]\n",
    "\n",
    "plt.figure(figsize=(16,4))\n",
    "plt.title(\"feature selected\")\n",
    "ones.plot(kind='density', color=\"blue\", xlim = (-0.015, 0.015))\n",
    "zeros.plot(kind='density', color=\"red\")\n",
    "plt.legend((\"toxic\",\"normal\"))\n",
    "plt.show()\n",
    "\n",
    "label = pd.DataFrame(train[c].values, columns=['label']).copy()\n",
    "tmp = pd.DataFrame(train_tfidf[:,1].todense(), columns=['column'])\n",
    "comparison = pd.concat([tmp,label], axis = 1)\n",
    "ones = comparison['column'][comparison.label == 1]\n",
    "zeros = comparison['column'][comparison.label == 0]\n",
    "\n",
    "plt.figure(figsize=(16,4))\n",
    "plt.title(\"feature not selected\")\n",
    "ones.plot(kind='density', color=\"blue\", xlim = (-0.015, 0.015))\n",
    "zeros.plot(kind='density', color=\"red\")\n",
    "plt.legend((\"toxic\",\"normal\"))\n",
    "plt.show()"
   ]
  },
  {
   "cell_type": "code",
   "execution_count": null,
   "metadata": {},
   "outputs": [
    {
     "name": "stderr",
     "output_type": "stream",
     "text": [
      "\r",
      "  0%|          | 0/6 [00:00<?, ?it/s]"
     ]
    }
   ],
   "source": [
    "def function_ks_on_tfidf(i):\n",
    "    tmp = pd.DataFrame(train_tfidf[:,i].todense(), columns=['column'])\n",
    "    comparison = pd.concat([tmp,label], axis = 1)\n",
    "    ones = comparison['column'][comparison.label == 1]\n",
    "    zeros = comparison['column'][comparison.label == 0]\n",
    "\n",
    "    _, p = ks_2samp(ones, zeros)\n",
    "    \n",
    "    if p < 0.1:\n",
    "        return i\n",
    "\n",
    "for c in tqdm(['toxic', 'severe_toxic', 'obscene', 'threat', 'insult', 'identity_hate']):\n",
    "    x =  time()\n",
    "    label = pd.DataFrame(train[c].values, columns=['label']).copy()\n",
    "    \n",
    "    inputs = range(0,train_tfidf.shape[1])\n",
    "    \n",
    "    pool = mp.Pool(processes=4)\n",
    "    results = pool.map(function_ks_on_tfidf, inputs)\n",
    "    \n",
    "    which_cols = list(set(results) - set([None]))\n",
    "    \n",
    "    del inputs, results, pool, label\n",
    "    gc.collect()\n",
    "    \n",
    "    # saving\n",
    "    out_train = pd.DataFrame(train_tfidf[:,which_cols].todense())\n",
    "    out_train.columns = [\"tfidf_\" + str(i) for i in out_train.columns]\n",
    "    \n",
    "    out_train.to_csv(\"train_tfidf_\"+str(c)+\".csv\")\n",
    "    \n",
    "    del out_train\n",
    "    gc.collect()\n",
    "    \n",
    "    out_test = pd.DataFrame(test_tfidf[:,which_cols].todense())\n",
    "    out_test.columns = [\"tfidf_\" + str(i) for i in out_test.columns]\n",
    "    \n",
    "    out_test.to_csv(\"test_tfidf_\"+str(c)+\".csv\")\n",
    "    \n",
    "    del out_test, which_cols\n",
    "    gc.collect()\n",
    "        \n",
    "    print(c, \"ended...\")\n",
    "    print(\"It requires:\", np.round((time()-x)/60,2), \"minutes\", end=\"\\n\\n\")"
   ]
  },
  {
   "cell_type": "markdown",
   "metadata": {},
   "source": [
    "### CONCLUSION\n",
    "\n",
    "##### It is quite slow. On multithread almost 1 hour for each label!\n",
    "\n",
    "\n",
    "My goal is to share a possible way to extract right features from a TF-IDF matrix in tasks of text classification.\n",
    "\n",
    "Please leave a feedback about this method. \n",
    "\n",
    "See you around,\n",
    "\n",
    "Federico"
   ]
  }
 ],
 "metadata": {
  "kernelspec": {
   "display_name": "Python 3",
   "language": "python",
   "name": "python3"
  },
  "language_info": {
   "codemirror_mode": {
    "name": "ipython",
    "version": 3
   },
   "file_extension": ".py",
   "mimetype": "text/x-python",
   "name": "python",
   "nbconvert_exporter": "python",
   "pygments_lexer": "ipython3",
   "version": "3.6.0"
  }
 },
 "nbformat": 4,
 "nbformat_minor": 2
}
